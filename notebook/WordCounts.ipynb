{
 "cells": [
  {
   "cell_type": "markdown",
   "id": "fcd04595-a57d-416e-89cf-2f180be1f034",
   "metadata": {},
   "source": [
    "# Word Counts\n"
   ]
  },
  {
   "cell_type": "code",
   "execution_count": 25,
   "id": "9e334a65-fe26-420c-ba42-d0c94115c7fa",
   "metadata": {},
   "outputs": [],
   "source": [
    "from glob import glob\n",
    "from pathlib import Path\n",
    "\n",
    "import pandas as pd\n",
    "\n",
    "from dolma_count import count_utils"
   ]
  },
  {
   "cell_type": "code",
   "execution_count": 2,
   "id": "9eb4627e-8048-48bf-ac0a-32892ddce5f2",
   "metadata": {},
   "outputs": [],
   "source": [
    "data_dir = Path(\"../data\")\n",
    "assert data_dir.exists()"
   ]
  },
  {
   "cell_type": "code",
   "execution_count": 3,
   "id": "555cd034-dde1-47d8-91d0-2aa9d8ca22c7",
   "metadata": {},
   "outputs": [
    {
     "name": "stdout",
     "output_type": "stream",
     "text": [
      "3.8G\t../data/raw/wiki-en-simple/en_simple_wiki-0000.json.gz\n",
      "2.0G\t../data/raw/wiki-en-simple/en_simple_wiki-0001.json.gz\n"
     ]
    }
   ],
   "source": [
    "!du -h {data_dir}/raw/wiki-en-simple/*"
   ]
  },
  {
   "cell_type": "code",
   "execution_count": null,
   "id": "355b4721-7652-4f9f-a7fa-5a8557acd76c",
   "metadata": {},
   "outputs": [],
   "source": [
    "# this is a functional but bad approach to word counting\n",
    "# I think it's mainly bad because of the sort over approximately 1.5B lines\n",
    "# not sure of the exact time, but it took a few hours to execute on my mac\n",
    "# inspired in part by this post: https://stackoverflow.com/questions/10552803/how-to-create-a-frequency-list-of-every-word-in-a-file\n",
    "!gunzip -c en_simple_wiki-0001.json.gz \\\n",
    "| ggrep -Po '\"text\":.*?[^\\]\",' - \\\n",
    "| cut -c 9- \\\n",
    "| sed 's/\",$//' \\\n",
    "| sed 's/\n",
    "/\n",
    "/g' \\\n",
    "| sed 's/\\\"/\"/g' \\\n",
    "| tr -d '[[:punct:]]' \\\n",
    "| tr ' ' '\n",
    "' \\\n",
    "| sort \\\n",
    "| uniq -c \\\n",
    "| sort -nr > wiki0001_word_counts.txt"
   ]
  },
  {
   "cell_type": "code",
   "execution_count": 17,
   "id": "da7234e9-586c-4cf0-9687-a294cf8be873",
   "metadata": {},
   "outputs": [
    {
     "name": "stdout",
     "output_type": "stream",
     "text": [
      "a 1\n",
      "b 2\n",
      "c 1\n",
      "d 1\n",
      "e 1\n"
     ]
    }
   ],
   "source": [
    "!echo \"a\\nb\\nc\\nd\\ne\\nb\" | python ../src/dolma_count/count_utils.py"
   ]
  },
  {
   "cell_type": "code",
   "execution_count": 8,
   "id": "195323ae-c475-4cc8-a2b2-be32404dd028",
   "metadata": {},
   "outputs": [
    {
     "name": "stdout",
     "output_type": "stream",
     "text": [
      "Counting words: 1713382367it [07:11, 3970836.03it/s]\n"
     ]
    }
   ],
   "source": [
    "# this approach counts words at approximately 4M words/second\n",
    "# at 3.6B tokens in the Dolma wiki data, let's do some back-of-the-envelope calculation\n",
    "# (3600000000 words / 2) / 4000000 words-per-second / 60s ~= 7.5 minutes\n",
    "# that works in practice: it takes about 7 minutes!\n",
    "!gunzip -c {data_dir}/raw/wiki-en-simple/en_simple_wiki-0000.json.gz \\\n",
    "| ggrep -Po '\"text\":.*?[^\\]\",' - \\\n",
    "| cut -c 9- \\\n",
    "| sed 's/\",$//' \\\n",
    "| sed 's/\\n/\n",
    "/g' \\\n",
    "| sed 's/\\\"/\"/g' \\\n",
    "| tr -d '[[:punct:]]' \\\n",
    "| tr ' ' '\n",
    "' \\\n",
    "| python ../src/dolma_count/count_utils.py > {data_dir}/derived/wiki0000_word_counts.txt"
   ]
  },
  {
   "cell_type": "code",
   "execution_count": 24,
   "id": "7f1ba84f-a65a-46d5-8f42-c4faa5ebbe93",
   "metadata": {},
   "outputs": [
    {
     "name": "stdout",
     "output_type": "stream",
     "text": [
      "Counting words: 872821373it [03:40, 3962156.09it/s]\n"
     ]
    }
   ],
   "source": [
    "!gunzip -c {data_dir}/raw/wiki-en-simple/en_simple_wiki-0001.json.gz \\\n",
    "| ggrep -Po '\"text\":.*?[^\\]\",' - \\\n",
    "| cut -c 9- \\\n",
    "| sed 's/\",$//' \\\n",
    "| sed 's/\\n/\n",
    "/g' \\\n",
    "| sed 's/\\\"/\"/g' \\\n",
    "| tr -d '[[:punct:]]' \\\n",
    "| tr ' ' '\n",
    "' \\\n",
    "| python ../src/dolma_count/count_utils.py > {data_dir}/derived/wiki0001_word_counts.txt"
   ]
  },
  {
   "cell_type": "code",
   "execution_count": 9,
   "id": "eda6705e-ad7f-4721-a422-7ca0d13392ec",
   "metadata": {},
   "outputs": [
    {
     "name": "stdout",
     "output_type": "stream",
     "text": [
      " 9716979 ../data/derived/wiki0000_word_counts.txt\n"
     ]
    }
   ],
   "source": [
    "!wc -l {data_dir}/derived/wiki0000_word_counts.txt"
   ]
  },
  {
   "cell_type": "code",
   "execution_count": 11,
   "id": "ee1a67ce-d4a2-445e-8540-4c7ded879a6c",
   "metadata": {},
   "outputs": [
    {
     "name": "stdout",
     "output_type": "stream",
     "text": [
      "^C\n"
     ]
    }
   ],
   "source": [
    "# this doesn't work, but something like it should\n",
    "!cat {data_dir}/derived/wiki0000_word_counts.txt | sort -k1 -nr -t, | head"
   ]
  },
  {
   "cell_type": "code",
   "execution_count": 12,
   "id": "dabed3eb-7bec-4b1b-a180-5094f1df8bc9",
   "metadata": {},
   "outputs": [
    {
     "name": "stdout",
     "output_type": "stream",
     "text": [
      "5725,\"Organic\"\n",
      "2,\"ChemistryCover\"\n",
      "10259635,\"\"\n",
      "8643,\"Welcome\"\n",
      "36142078,\"to\"\n",
      "107532442,\"the\"\n",
      "81354,\"worlds\"\n",
      "10783,\"foremost\"\n",
      "281024,\"open\"\n",
      "1,\"contentltbrgtOrganic\"\n"
     ]
    }
   ],
   "source": [
    "!head {data_dir}/derived/wiki0000_word_counts.txt"
   ]
  },
  {
   "cell_type": "code",
   "execution_count": 13,
   "id": "d431ec96-133c-48b1-a3dc-700e51e47989",
   "metadata": {},
   "outputs": [
    {
     "data": {
      "text/plain": [
       "9716979"
      ]
     },
     "execution_count": 13,
     "metadata": {},
     "output_type": "execute_result"
    }
   ],
   "source": [
    "df = pd.read_csv(data_dir / \"derived\" / \"wiki0000_word_counts.txt\", header=None, names=[\"count\", \"word\"])\n",
    "len(df)"
   ]
  },
  {
   "cell_type": "code",
   "execution_count": 14,
   "id": "d0f27cbe-ca5b-4cf6-af42-4557c9327939",
   "metadata": {},
   "outputs": [
    {
     "data": {
      "text/html": [
       "<div>\n",
       "<style scoped>\n",
       "    .dataframe tbody tr th:only-of-type {\n",
       "        vertical-align: middle;\n",
       "    }\n",
       "\n",
       "    .dataframe tbody tr th {\n",
       "        vertical-align: top;\n",
       "    }\n",
       "\n",
       "    .dataframe thead th {\n",
       "        text-align: right;\n",
       "    }\n",
       "</style>\n",
       "<table border=\"1\" class=\"dataframe\">\n",
       "  <thead>\n",
       "    <tr style=\"text-align: right;\">\n",
       "      <th></th>\n",
       "      <th>count</th>\n",
       "      <th>word</th>\n",
       "    </tr>\n",
       "  </thead>\n",
       "  <tbody>\n",
       "    <tr>\n",
       "      <th>6613815</th>\n",
       "      <td>1</td>\n",
       "      <td>Mosoru</td>\n",
       "    </tr>\n",
       "    <tr>\n",
       "      <th>2717138</th>\n",
       "      <td>7</td>\n",
       "      <td>UFAW</td>\n",
       "    </tr>\n",
       "    <tr>\n",
       "      <th>8547159</th>\n",
       "      <td>1</td>\n",
       "      <td>NoordZuidHollandsche</td>\n",
       "    </tr>\n",
       "  </tbody>\n",
       "</table>\n",
       "</div>"
      ],
      "text/plain": [
       "         count                  word\n",
       "6613815      1                Mosoru\n",
       "2717138      7                  UFAW\n",
       "8547159      1  NoordZuidHollandsche"
      ]
     },
     "execution_count": 14,
     "metadata": {},
     "output_type": "execute_result"
    }
   ],
   "source": [
    "df.sample(n=3)"
   ]
  },
  {
   "cell_type": "code",
   "execution_count": 15,
   "id": "04816bbd-40f0-4a02-9a72-7899b201992b",
   "metadata": {},
   "outputs": [
    {
     "data": {
      "text/html": [
       "<div>\n",
       "<style scoped>\n",
       "    .dataframe tbody tr th:only-of-type {\n",
       "        vertical-align: middle;\n",
       "    }\n",
       "\n",
       "    .dataframe tbody tr th {\n",
       "        vertical-align: top;\n",
       "    }\n",
       "\n",
       "    .dataframe thead th {\n",
       "        text-align: right;\n",
       "    }\n",
       "</style>\n",
       "<table border=\"1\" class=\"dataframe\">\n",
       "  <thead>\n",
       "    <tr style=\"text-align: right;\">\n",
       "      <th></th>\n",
       "      <th>count</th>\n",
       "      <th>word</th>\n",
       "    </tr>\n",
       "  </thead>\n",
       "  <tbody>\n",
       "    <tr>\n",
       "      <th>5</th>\n",
       "      <td>107532442</td>\n",
       "      <td>the</td>\n",
       "    </tr>\n",
       "    <tr>\n",
       "      <th>15</th>\n",
       "      <td>58669363</td>\n",
       "      <td>of</td>\n",
       "    </tr>\n",
       "    <tr>\n",
       "      <th>24</th>\n",
       "      <td>50567064</td>\n",
       "      <td>and</td>\n",
       "    </tr>\n",
       "    <tr>\n",
       "      <th>32</th>\n",
       "      <td>42568367</td>\n",
       "      <td>in</td>\n",
       "    </tr>\n",
       "    <tr>\n",
       "      <th>4</th>\n",
       "      <td>36142078</td>\n",
       "      <td>to</td>\n",
       "    </tr>\n",
       "    <tr>\n",
       "      <th>29</th>\n",
       "      <td>34080892</td>\n",
       "      <td>a</td>\n",
       "    </tr>\n",
       "    <tr>\n",
       "      <th>795</th>\n",
       "      <td>21064791</td>\n",
       "      <td>was</td>\n",
       "    </tr>\n",
       "    <tr>\n",
       "      <th>13</th>\n",
       "      <td>17664703</td>\n",
       "      <td>The</td>\n",
       "    </tr>\n",
       "    <tr>\n",
       "      <th>17</th>\n",
       "      <td>16259858</td>\n",
       "      <td>is</td>\n",
       "    </tr>\n",
       "    <tr>\n",
       "      <th>260</th>\n",
       "      <td>13981699</td>\n",
       "      <td>for</td>\n",
       "    </tr>\n",
       "  </tbody>\n",
       "</table>\n",
       "</div>"
      ],
      "text/plain": [
       "         count word\n",
       "5    107532442  the\n",
       "15    58669363   of\n",
       "24    50567064  and\n",
       "32    42568367   in\n",
       "4     36142078   to\n",
       "29    34080892    a\n",
       "795   21064791  was\n",
       "13    17664703  The\n",
       "17    16259858   is\n",
       "260   13981699  for"
      ]
     },
     "execution_count": 15,
     "metadata": {},
     "output_type": "execute_result"
    }
   ],
   "source": [
    "df = df.sort_values(by=\"count\", ascending=False)\n",
    "df.head(10)"
   ]
  },
  {
   "cell_type": "code",
   "execution_count": 23,
   "id": "baf65e34-2fe4-4667-a58d-329ddf1267c4",
   "metadata": {},
   "outputs": [
    {
     "data": {
      "text/plain": [
       "'1,713,382,367'"
      ]
     },
     "execution_count": 23,
     "metadata": {},
     "output_type": "execute_result"
    }
   ],
   "source": [
    "# total word count\n",
    "f\"{df['count'].sum():,}\""
   ]
  },
  {
   "cell_type": "code",
   "execution_count": 21,
   "id": "679791d4-732d-49f9-ad9f-d722903cda86",
   "metadata": {},
   "outputs": [
    {
     "data": {
      "text/plain": [
       "'5404986 / 9716979 = 55.62%'"
      ]
     },
     "execution_count": 21,
     "metadata": {},
     "output_type": "execute_result"
    }
   ],
   "source": [
    "# hapax legomena\n",
    "f\"{(df['count'] == 1).sum()} / {len(df)} = {(df['count'] == 1).sum() / len(df):.2%}\""
   ]
  },
  {
   "cell_type": "code",
   "execution_count": 29,
   "id": "80b263aa-c123-467b-bd76-f55b2e415356",
   "metadata": {},
   "outputs": [
    {
     "data": {
      "text/plain": [
       "['../data/derived/wiki0001_word_counts.txt',\n",
       " '../data/derived/wiki0000_word_counts.txt']"
      ]
     },
     "execution_count": 29,
     "metadata": {},
     "output_type": "execute_result"
    }
   ],
   "source": [
    "glob(str(data_dir / \"derived\" / \"wiki*_word_counts.txt\"))"
   ]
  },
  {
   "cell_type": "code",
   "execution_count": 30,
   "id": "8184ec49-d65b-4b46-b375-028b27512f31",
   "metadata": {},
   "outputs": [
    {
     "data": {
      "text/plain": [
       "2"
      ]
     },
     "execution_count": 30,
     "metadata": {},
     "output_type": "execute_result"
    }
   ],
   "source": [
    "dfs = []\n",
    "for fname in glob(str(data_dir / \"derived\" / \"wiki*_word_counts.txt\")):\n",
    "    df = pd.read_csv(fname, header=None, names=[\"count\", \"word\"])\n",
    "    dfs.append(df)\n",
    "len(dfs)"
   ]
  },
  {
   "cell_type": "code",
   "execution_count": 37,
   "id": "16641722-3d65-41f4-93e5-e990edb87c54",
   "metadata": {},
   "outputs": [
    {
     "data": {
      "text/plain": [
       "12931993"
      ]
     },
     "execution_count": 37,
     "metadata": {},
     "output_type": "execute_result"
    }
   ],
   "source": [
    "wc_df = pd.concat(dfs).groupby(\"word\")[\"count\"].sum()\n",
    "len(wc_df)"
   ]
  },
  {
   "cell_type": "code",
   "execution_count": 38,
   "id": "bc642a88-8d74-4f35-9c77-00eae5fdcd74",
   "metadata": {},
   "outputs": [
    {
     "data": {
      "text/html": [
       "<div>\n",
       "<style scoped>\n",
       "    .dataframe tbody tr th:only-of-type {\n",
       "        vertical-align: middle;\n",
       "    }\n",
       "\n",
       "    .dataframe tbody tr th {\n",
       "        vertical-align: top;\n",
       "    }\n",
       "\n",
       "    .dataframe thead th {\n",
       "        text-align: right;\n",
       "    }\n",
       "</style>\n",
       "<table border=\"1\" class=\"dataframe\">\n",
       "  <thead>\n",
       "    <tr style=\"text-align: right;\">\n",
       "      <th></th>\n",
       "      <th>count</th>\n",
       "    </tr>\n",
       "    <tr>\n",
       "      <th>word</th>\n",
       "      <th></th>\n",
       "    </tr>\n",
       "  </thead>\n",
       "  <tbody>\n",
       "    <tr>\n",
       "      <th>the</th>\n",
       "      <td>160691399</td>\n",
       "    </tr>\n",
       "    <tr>\n",
       "      <th>of</th>\n",
       "      <td>87652471</td>\n",
       "    </tr>\n",
       "    <tr>\n",
       "      <th>and</th>\n",
       "      <td>76048179</td>\n",
       "    </tr>\n",
       "    <tr>\n",
       "      <th>in</th>\n",
       "      <td>65774812</td>\n",
       "    </tr>\n",
       "    <tr>\n",
       "      <th>to</th>\n",
       "      <td>53332643</td>\n",
       "    </tr>\n",
       "  </tbody>\n",
       "</table>\n",
       "</div>"
      ],
      "text/plain": [
       "          count\n",
       "word           \n",
       "the   160691399\n",
       "of     87652471\n",
       "and    76048179\n",
       "in     65774812\n",
       "to     53332643"
      ]
     },
     "execution_count": 38,
     "metadata": {},
     "output_type": "execute_result"
    }
   ],
   "source": [
    "wc_df = pd.DataFrame(wc_df).sort_values(by=\"count\", ascending=False)\n",
    "wc_df.head()"
   ]
  },
  {
   "cell_type": "code",
   "execution_count": 40,
   "id": "eb48df8c-3e73-4768-b610-f2f9080671c7",
   "metadata": {},
   "outputs": [],
   "source": [
    "wc_df.reset_index().to_csv(data_dir / \"derived\" / \"all_wiki_word_counts.csv\", index=False)"
   ]
  },
  {
   "cell_type": "code",
   "execution_count": 42,
   "id": "aec41576-120b-4175-8686-9840f8bbdb7c",
   "metadata": {},
   "outputs": [],
   "source": [
    "wc_df.reset_index().head(1000).to_csv(data_dir / \"app_data\" / \"wiki_word_counts.csv\", index=False)"
   ]
  },
  {
   "cell_type": "code",
   "execution_count": null,
   "id": "b7efb362-ddd1-4e9a-b877-763cb0f09490",
   "metadata": {},
   "outputs": [],
   "source": []
  },
  {
   "cell_type": "code",
   "execution_count": null,
   "id": "2c29cd68-6760-45dd-afe7-57dc26357ec7",
   "metadata": {},
   "outputs": [],
   "source": []
  },
  {
   "cell_type": "code",
   "execution_count": null,
   "id": "c506b011-c0af-4603-a915-656dcf77c037",
   "metadata": {},
   "outputs": [],
   "source": []
  }
 ],
 "metadata": {
  "kernelspec": {
   "display_name": "dolma-count",
   "language": "python",
   "name": "dolma-count"
  },
  "language_info": {
   "codemirror_mode": {
    "name": "ipython",
    "version": 3
   },
   "file_extension": ".py",
   "mimetype": "text/x-python",
   "name": "python",
   "nbconvert_exporter": "python",
   "pygments_lexer": "ipython3",
   "version": "3.10.12"
  }
 },
 "nbformat": 4,
 "nbformat_minor": 5
}
