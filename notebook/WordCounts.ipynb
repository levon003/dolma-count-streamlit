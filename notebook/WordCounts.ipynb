{
 "cells": [
  {
   "cell_type": "markdown",
   "id": "fcd04595-a57d-416e-89cf-2f180be1f034",
   "metadata": {},
   "source": [
    "# Word Counts\n"
   ]
  },
  {
   "cell_type": "code",
   "execution_count": 19,
   "id": "9e334a65-fe26-420c-ba42-d0c94115c7fa",
   "metadata": {},
   "outputs": [],
   "source": [
    "from pathlib import Path\n",
    "\n",
    "import pandas as pd\n",
    "\n",
    "from dolma_count import count_utils"
   ]
  },
  {
   "cell_type": "code",
   "execution_count": 5,
   "id": "9eb4627e-8048-48bf-ac0a-32892ddce5f2",
   "metadata": {},
   "outputs": [],
   "source": [
    "data_dir = Path(\"../data\")\n",
    "assert data_dir.exists()"
   ]
  },
  {
   "cell_type": "code",
   "execution_count": 8,
   "id": "555cd034-dde1-47d8-91d0-2aa9d8ca22c7",
   "metadata": {},
   "outputs": [
    {
     "name": "stdout",
     "output_type": "stream",
     "text": [
      "3.8G\t../data/raw/wiki-en-simple/en_simple_wiki-0000.json.gz\n",
      "2.0G\t../data/raw/wiki-en-simple/en_simple_wiki-0001.json.gz\n"
     ]
    }
   ],
   "source": [
    "!du -h {data_dir}/raw/wiki-en-simple/*"
   ]
  },
  {
   "cell_type": "code",
   "execution_count": null,
   "id": "355b4721-7652-4f9f-a7fa-5a8557acd76c",
   "metadata": {},
   "outputs": [],
   "source": [
    "# this is a functional but bad approach to word counting\n",
    "# I think it's mainly bad because of the sort over approximately 1.5B lines\n",
    "# not sure of the exact time, but it took a few hours to execute on my mac\n",
    "# inspired in part by this post: https://stackoverflow.com/questions/10552803/how-to-create-a-frequency-list-of-every-word-in-a-file\n",
    "!gunzip -c en_simple_wiki-0001.json.gz \\\n",
    "| ggrep -Po '\"text\":.*?[^\\]\",' - \\\n",
    "| cut -c 9- \\\n",
    "| sed 's/\",$//' \\\n",
    "| sed 's/\\n/\n",
    "/g' \\\n",
    "| sed 's/\\\"/\"/g' \\\n",
    "| tr -d '[[:punct:]]' \\\n",
    "| tr ' ' '\n",
    "' \\\n",
    "| sort \\\n",
    "| uniq -c \\\n",
    "| sort -nr > wiki0001_word_counts.txt"
   ]
  },
  {
   "cell_type": "code",
   "execution_count": 17,
   "id": "da7234e9-586c-4cf0-9687-a294cf8be873",
   "metadata": {},
   "outputs": [
    {
     "name": "stdout",
     "output_type": "stream",
     "text": [
      "a 1\n",
      "b 2\n",
      "c 1\n",
      "d 1\n",
      "e 1\n"
     ]
    }
   ],
   "source": [
    "!echo \"a\\nb\\nc\\nd\\ne\\nb\" | python ../src/dolma_count/count_utils.py"
   ]
  },
  {
   "cell_type": "code",
   "execution_count": 20,
   "id": "195323ae-c475-4cc8-a2b2-be32404dd028",
   "metadata": {},
   "outputs": [
    {
     "name": "stdout",
     "output_type": "stream",
     "text": [
      "Counting words: 1713382367it [07:02, 4058471.98it/s]\n"
     ]
    }
   ],
   "source": [
    "# this approach counts words at approximately 4M words/second\n",
    "# at 3.6B tokens in the Dolma wiki data, let's do some back-of-the-envelope calculation\n",
    "# (3600000000 words / 2) / 4000000 words-per-second / 60s ~= 7.5 minutes\n",
    "# we would assume that\n",
    "!gunzip -c {data_dir}/raw/wiki-en-simple/en_simple_wiki-0000.json.gz \\\n",
    "| ggrep -Po '\"text\":.*?[^\\]\",' - \\\n",
    "| cut -c 9- \\\n",
    "| sed 's/\",$//' \\\n",
    "| sed 's/\\n/\n",
    "/g' \\\n",
    "| sed 's/\\\"/\"/g' \\\n",
    "| tr -d '[[:punct:]]' \\\n",
    "| tr ' ' '\n",
    "' | python ../src/dolma_count/count_utils.py > {data_dir}/derived/wiki0000_word_counts.txt"
   ]
  },
  {
   "cell_type": "code",
   "execution_count": 23,
   "id": "eda6705e-ad7f-4721-a422-7ca0d13392ec",
   "metadata": {},
   "outputs": [
    {
     "name": "stdout",
     "output_type": "stream",
     "text": [
      " 9716979 ../data/derived/wiki0000_word_counts.txt\n"
     ]
    }
   ],
   "source": [
    "!wc -l {data_dir}/derived/wiki0000_word_counts.txt"
   ]
  },
  {
   "cell_type": "code",
   "execution_count": 34,
   "id": "ee1a67ce-d4a2-445e-8540-4c7ded879a6c",
   "metadata": {},
   "outputs": [
    {
     "name": "stdout",
     "output_type": "stream",
     "text": [
      "the 107532442\n",
      "of 58669363\n",
      "and 50567064\n",
      "in 42568367\n",
      "to 36142078\n",
      "a 34080892\n",
      "was 21064791\n",
      "The 17664703\n",
      "is 16259858\n",
      "for 13981699\n",
      "sort: Broken pipe\n"
     ]
    }
   ],
   "source": [
    "# this command doesn't actually work due the way `sort -k2` works, but it's close enough\n",
    "!head -n 100000 {data_dir}/derived/wiki0000_word_counts.txt | sort -k2 -nr | head"
   ]
  },
  {
   "cell_type": "code",
   "execution_count": null,
   "id": "dabed3eb-7bec-4b1b-a180-5094f1df8bc9",
   "metadata": {},
   "outputs": [],
   "source": []
  }
 ],
 "metadata": {
  "kernelspec": {
   "display_name": "dolma-count",
   "language": "python",
   "name": "dolma-count"
  },
  "language_info": {
   "codemirror_mode": {
    "name": "ipython",
    "version": 3
   },
   "file_extension": ".py",
   "mimetype": "text/x-python",
   "name": "python",
   "nbconvert_exporter": "python",
   "pygments_lexer": "ipython3",
   "version": "3.10.12"
  }
 },
 "nbformat": 4,
 "nbformat_minor": 5
}
