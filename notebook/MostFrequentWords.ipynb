{
 "cells": [
  {
   "cell_type": "markdown",
   "id": "fcd04595-a57d-416e-89cf-2f180be1f034",
   "metadata": {},
   "source": [
    "# Most Frequent Words\n",
    "\n",
    "Creating a dataset for actual use."
   ]
  },
  {
   "cell_type": "code",
   "execution_count": 1,
   "id": "9e334a65-fe26-420c-ba42-d0c94115c7fa",
   "metadata": {},
   "outputs": [],
   "source": [
    "from pathlib import Path\n",
    "\n",
    "import pandas as pd"
   ]
  },
  {
   "cell_type": "code",
   "execution_count": 2,
   "id": "9eb4627e-8048-48bf-ac0a-32892ddce5f2",
   "metadata": {},
   "outputs": [],
   "source": [
    "data_dir = Path(\"../data\")\n",
    "assert data_dir.exists()"
   ]
  },
  {
   "cell_type": "code",
   "execution_count": 3,
   "id": "8184ec49-d65b-4b46-b375-028b27512f31",
   "metadata": {},
   "outputs": [
    {
     "data": {
      "text/plain": [
       "3"
      ]
     },
     "execution_count": 3,
     "metadata": {},
     "output_type": "execute_result"
    }
   ],
   "source": [
    "dfs = []\n",
    "for source, fname in zip(\n",
    "    [\"Wikipedia\", \"Project Gutenberg\", \"peS2o\"],\n",
    "    [\"wiki_word_counts.csv\", \"books_word_counts.csv\", \"s2_word_counts.csv\"],\n",
    "):\n",
    "    df = pd.read_csv(\n",
    "        data_dir / \"derived\" / fname, header=None, names=[\"count\", \"word\"], dtype={\"count\": int, \"word\": str}\n",
    "    )\n",
    "    df[\"source\"] = source\n",
    "    dfs.append(df)\n",
    "len(dfs)"
   ]
  },
  {
   "cell_type": "code",
   "execution_count": 4,
   "id": "62d15875-fe70-4f41-b811-ab4de1c8b4ae",
   "metadata": {},
   "outputs": [
    {
     "data": {
      "text/plain": [
       "3"
      ]
     },
     "execution_count": 4,
     "metadata": {},
     "output_type": "execute_result"
    }
   ],
   "source": [
    "top_dfs = []\n",
    "for df in dfs:\n",
    "    df = df.sort_values(by=\"count\", ascending=False)\n",
    "    df = df[(df[\"word\"] != \"\") & (df[\"word\"].notna())]\n",
    "    total_words = df[\"count\"].sum()\n",
    "    df = df.head(1000000).copy()\n",
    "    df = df.reset_index(drop=True)\n",
    "    df[\"rank\"] = df.index + 1\n",
    "    df[\"pct\"] = df[\"count\"] / total_words\n",
    "    top_dfs.append(df)\n",
    "len(top_dfs)"
   ]
  },
  {
   "cell_type": "code",
   "execution_count": 5,
   "id": "2199fbb2-4af8-48b2-8604-782a2e6e5bc6",
   "metadata": {},
   "outputs": [
    {
     "data": {
      "text/html": [
       "<div>\n",
       "<style scoped>\n",
       "    .dataframe tbody tr th:only-of-type {\n",
       "        vertical-align: middle;\n",
       "    }\n",
       "\n",
       "    .dataframe tbody tr th {\n",
       "        vertical-align: top;\n",
       "    }\n",
       "\n",
       "    .dataframe thead th {\n",
       "        text-align: right;\n",
       "    }\n",
       "</style>\n",
       "<table border=\"1\" class=\"dataframe\">\n",
       "  <thead>\n",
       "    <tr style=\"text-align: right;\">\n",
       "      <th></th>\n",
       "      <th>count</th>\n",
       "      <th>word</th>\n",
       "      <th>source</th>\n",
       "      <th>rank</th>\n",
       "      <th>pct</th>\n",
       "    </tr>\n",
       "  </thead>\n",
       "  <tbody>\n",
       "    <tr>\n",
       "      <th>0</th>\n",
       "      <td>57425445</td>\n",
       "      <td>the</td>\n",
       "      <td>peS2o</td>\n",
       "      <td>1</td>\n",
       "      <td>0.059086</td>\n",
       "    </tr>\n",
       "    <tr>\n",
       "      <th>1</th>\n",
       "      <td>36987140</td>\n",
       "      <td>of</td>\n",
       "      <td>peS2o</td>\n",
       "      <td>2</td>\n",
       "      <td>0.038057</td>\n",
       "    </tr>\n",
       "  </tbody>\n",
       "</table>\n",
       "</div>"
      ],
      "text/plain": [
       "      count word source  rank       pct\n",
       "0  57425445  the  peS2o     1  0.059086\n",
       "1  36987140   of  peS2o     2  0.038057"
      ]
     },
     "execution_count": 5,
     "metadata": {},
     "output_type": "execute_result"
    }
   ],
   "source": [
    "top_dfs[2].head(2)"
   ]
  },
  {
   "cell_type": "code",
   "execution_count": 6,
   "id": "d1518507-412d-4435-8d2f-8dc2c02f92df",
   "metadata": {},
   "outputs": [
    {
     "data": {
      "text/html": [
       "<div>\n",
       "<style scoped>\n",
       "    .dataframe tbody tr th:only-of-type {\n",
       "        vertical-align: middle;\n",
       "    }\n",
       "\n",
       "    .dataframe tbody tr th {\n",
       "        vertical-align: top;\n",
       "    }\n",
       "\n",
       "    .dataframe thead th {\n",
       "        text-align: right;\n",
       "    }\n",
       "</style>\n",
       "<table border=\"1\" class=\"dataframe\">\n",
       "  <thead>\n",
       "    <tr style=\"text-align: right;\">\n",
       "      <th></th>\n",
       "      <th>word</th>\n",
       "      <th>pct_wiki</th>\n",
       "      <th>rank_wiki</th>\n",
       "      <th>pct_gutenberg</th>\n",
       "      <th>rank_gutenberg</th>\n",
       "      <th>pct_s2</th>\n",
       "      <th>rank_s2</th>\n",
       "    </tr>\n",
       "  </thead>\n",
       "  <tbody>\n",
       "    <tr>\n",
       "      <th>0</th>\n",
       "      <td>the</td>\n",
       "      <td>6.253678e-02</td>\n",
       "      <td>1.0</td>\n",
       "      <td>6.033402e-02</td>\n",
       "      <td>1.0</td>\n",
       "      <td>5.908579e-02</td>\n",
       "      <td>1.0</td>\n",
       "    </tr>\n",
       "    <tr>\n",
       "      <th>1</th>\n",
       "      <td>of</td>\n",
       "      <td>3.411199e-02</td>\n",
       "      <td>2.0</td>\n",
       "      <td>3.578621e-02</td>\n",
       "      <td>2.0</td>\n",
       "      <td>3.805655e-02</td>\n",
       "      <td>2.0</td>\n",
       "    </tr>\n",
       "    <tr>\n",
       "      <th>2</th>\n",
       "      <td>and</td>\n",
       "      <td>2.959591e-02</td>\n",
       "      <td>3.0</td>\n",
       "      <td>3.036963e-02</td>\n",
       "      <td>3.0</td>\n",
       "      <td>2.954267e-02</td>\n",
       "      <td>3.0</td>\n",
       "    </tr>\n",
       "    <tr>\n",
       "      <th>3</th>\n",
       "      <td>in</td>\n",
       "      <td>2.559779e-02</td>\n",
       "      <td>4.0</td>\n",
       "      <td>1.718741e-02</td>\n",
       "      <td>6.0</td>\n",
       "      <td>2.139867e-02</td>\n",
       "      <td>4.0</td>\n",
       "    </tr>\n",
       "    <tr>\n",
       "      <th>4</th>\n",
       "      <td>to</td>\n",
       "      <td>2.075563e-02</td>\n",
       "      <td>5.0</td>\n",
       "      <td>2.574570e-02</td>\n",
       "      <td>4.0</td>\n",
       "      <td>1.959035e-02</td>\n",
       "      <td>5.0</td>\n",
       "    </tr>\n",
       "    <tr>\n",
       "      <th>...</th>\n",
       "      <td>...</td>\n",
       "      <td>...</td>\n",
       "      <td>...</td>\n",
       "      <td>...</td>\n",
       "      <td>...</td>\n",
       "      <td>...</td>\n",
       "      <td>...</td>\n",
       "    </tr>\n",
       "    <tr>\n",
       "      <th>1997</th>\n",
       "      <td>µ</td>\n",
       "      <td>8.561810e-08</td>\n",
       "      <td>196832.0</td>\n",
       "      <td>2.249327e-07</td>\n",
       "      <td>79771.0</td>\n",
       "      <td>2.255655e-04</td>\n",
       "      <td>494.0</td>\n",
       "    </tr>\n",
       "    <tr>\n",
       "      <th>1998</th>\n",
       "      <td>CHAPTER</td>\n",
       "      <td>8.328306e-08</td>\n",
       "      <td>200637.0</td>\n",
       "      <td>1.975420e-04</td>\n",
       "      <td>473.0</td>\n",
       "      <td>1.954935e-07</td>\n",
       "      <td>96237.0</td>\n",
       "    </tr>\n",
       "    <tr>\n",
       "      <th>1999</th>\n",
       "      <td>LETTER</td>\n",
       "      <td>4.631161e-08</td>\n",
       "      <td>296014.0</td>\n",
       "      <td>1.339040e-04</td>\n",
       "      <td>665.0</td>\n",
       "      <td>4.630109e-08</td>\n",
       "      <td>254622.0</td>\n",
       "    </tr>\n",
       "    <tr>\n",
       "      <th>2000</th>\n",
       "      <td>SMALL</td>\n",
       "      <td>3.541476e-08</td>\n",
       "      <td>357269.0</td>\n",
       "      <td>1.193558e-04</td>\n",
       "      <td>738.0</td>\n",
       "      <td>2.654596e-07</td>\n",
       "      <td>78841.0</td>\n",
       "    </tr>\n",
       "    <tr>\n",
       "      <th>2001</th>\n",
       "      <td>languageen</td>\n",
       "      <td>NaN</td>\n",
       "      <td>NaN</td>\n",
       "      <td>NaN</td>\n",
       "      <td>NaN</td>\n",
       "      <td>1.400731e-04</td>\n",
       "      <td>857.0</td>\n",
       "    </tr>\n",
       "  </tbody>\n",
       "</table>\n",
       "<p>2002 rows × 7 columns</p>\n",
       "</div>"
      ],
      "text/plain": [
       "            word      pct_wiki  rank_wiki  pct_gutenberg  rank_gutenberg  \\\n",
       "0            the  6.253678e-02        1.0   6.033402e-02             1.0   \n",
       "1             of  3.411199e-02        2.0   3.578621e-02             2.0   \n",
       "2            and  2.959591e-02        3.0   3.036963e-02             3.0   \n",
       "3             in  2.559779e-02        4.0   1.718741e-02             6.0   \n",
       "4             to  2.075563e-02        5.0   2.574570e-02             4.0   \n",
       "...          ...           ...        ...            ...             ...   \n",
       "1997           µ  8.561810e-08   196832.0   2.249327e-07         79771.0   \n",
       "1998     CHAPTER  8.328306e-08   200637.0   1.975420e-04           473.0   \n",
       "1999      LETTER  4.631161e-08   296014.0   1.339040e-04           665.0   \n",
       "2000       SMALL  3.541476e-08   357269.0   1.193558e-04           738.0   \n",
       "2001  languageen           NaN        NaN            NaN             NaN   \n",
       "\n",
       "            pct_s2   rank_s2  \n",
       "0     5.908579e-02       1.0  \n",
       "1     3.805655e-02       2.0  \n",
       "2     2.954267e-02       3.0  \n",
       "3     2.139867e-02       4.0  \n",
       "4     1.959035e-02       5.0  \n",
       "...            ...       ...  \n",
       "1997  2.255655e-04     494.0  \n",
       "1998  1.954935e-07   96237.0  \n",
       "1999  4.630109e-08  254622.0  \n",
       "2000  2.654596e-07   78841.0  \n",
       "2001  1.400731e-04     857.0  \n",
       "\n",
       "[2002 rows x 7 columns]"
      ]
     },
     "execution_count": 6,
     "metadata": {},
     "output_type": "execute_result"
    }
   ],
   "source": [
    "top_n = 1000\n",
    "cols = [\"word\", \"pct\", \"rank\"]\n",
    "mdf = pd.merge(\n",
    "    pd.merge(top_dfs[0][cols], top_dfs[1][cols], how=\"outer\", on=\"word\", suffixes=(\"_wiki\", \"_gutenberg\")),\n",
    "    top_dfs[2][cols].rename(columns={\"pct\": \"pct_s2\", \"rank\": \"rank_s2\"}),\n",
    "    how=\"outer\",\n",
    "    on=\"word\",\n",
    ")\n",
    "mdf = mdf[(mdf.rank_wiki <= top_n) | (mdf.rank_gutenberg <= top_n) | (mdf.rank_s2 <= top_n)].copy()\n",
    "mdf = mdf.sort_values(by=[\"rank_wiki\", \"rank_gutenberg\", \"rank_s2\"], ascending=True).reset_index(drop=True)\n",
    "mdf"
   ]
  },
  {
   "cell_type": "code",
   "execution_count": 7,
   "id": "91384a40-1deb-4a67-b1ec-0cb4239626ec",
   "metadata": {},
   "outputs": [],
   "source": [
    "mdf.to_csv(\"../data/derived/top_words_raw.csv\", index=False)"
   ]
  },
  {
   "cell_type": "code",
   "execution_count": null,
   "id": "fb2b035a-f119-4fc6-a41d-5e6a79d29689",
   "metadata": {},
   "outputs": [],
   "source": []
  }
 ],
 "metadata": {
  "kernelspec": {
   "display_name": "dolma-count",
   "language": "python",
   "name": "dolma-count"
  },
  "language_info": {
   "codemirror_mode": {
    "name": "ipython",
    "version": 3
   },
   "file_extension": ".py",
   "mimetype": "text/x-python",
   "name": "python",
   "nbconvert_exporter": "python",
   "pygments_lexer": "ipython3",
   "version": "3.10.12"
  }
 },
 "nbformat": 4,
 "nbformat_minor": 5
}
